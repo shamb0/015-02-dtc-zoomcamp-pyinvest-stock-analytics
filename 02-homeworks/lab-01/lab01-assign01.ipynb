{
 "cells": [
  {
   "cell_type": "code",
   "execution_count": 41,
   "metadata": {},
   "outputs": [
    {
     "name": "stdout",
     "output_type": "stream",
     "text": [
      "Requirement already satisfied: pandas in /home/popoyi/ssdbox/fact/utilhub/home-pyenv/.pyenv/versions/3.11.8/lib/python3.11/site-packages (2.2.1)\n",
      "Requirement already satisfied: numpy<2,>=1.23.2 in /home/popoyi/ssdbox/fact/utilhub/home-pyenv/.pyenv/versions/3.11.8/lib/python3.11/site-packages (from pandas) (1.26.4)\n",
      "Requirement already satisfied: python-dateutil>=2.8.2 in /home/popoyi/ssdbox/fact/utilhub/home-pyenv/.pyenv/versions/3.11.8/lib/python3.11/site-packages (from pandas) (2.9.0.post0)\n",
      "Requirement already satisfied: pytz>=2020.1 in /home/popoyi/ssdbox/fact/utilhub/home-pyenv/.pyenv/versions/3.11.8/lib/python3.11/site-packages (from pandas) (2024.1)\n",
      "Requirement already satisfied: tzdata>=2022.7 in /home/popoyi/ssdbox/fact/utilhub/home-pyenv/.pyenv/versions/3.11.8/lib/python3.11/site-packages (from pandas) (2024.1)\n",
      "Requirement already satisfied: six>=1.5 in /home/popoyi/ssdbox/fact/utilhub/home-pyenv/.pyenv/versions/3.11.8/lib/python3.11/site-packages (from python-dateutil>=2.8.2->pandas) (1.16.0)\n",
      "Collecting pandas_datareader\n",
      "  Downloading pandas_datareader-0.10.0-py3-none-any.whl.metadata (2.9 kB)\n",
      "Collecting lxml (from pandas_datareader)\n",
      "  Downloading lxml-5.2.1-cp311-cp311-manylinux_2_28_x86_64.whl.metadata (3.4 kB)\n",
      "Requirement already satisfied: pandas>=0.23 in /home/popoyi/ssdbox/fact/utilhub/home-pyenv/.pyenv/versions/3.11.8/lib/python3.11/site-packages (from pandas_datareader) (2.2.1)\n",
      "Requirement already satisfied: requests>=2.19.0 in /home/popoyi/ssdbox/fact/utilhub/home-pyenv/.pyenv/versions/3.11.8/lib/python3.11/site-packages (from pandas_datareader) (2.31.0)\n",
      "Requirement already satisfied: numpy<2,>=1.23.2 in /home/popoyi/ssdbox/fact/utilhub/home-pyenv/.pyenv/versions/3.11.8/lib/python3.11/site-packages (from pandas>=0.23->pandas_datareader) (1.26.4)\n",
      "Requirement already satisfied: python-dateutil>=2.8.2 in /home/popoyi/ssdbox/fact/utilhub/home-pyenv/.pyenv/versions/3.11.8/lib/python3.11/site-packages (from pandas>=0.23->pandas_datareader) (2.9.0.post0)\n",
      "Requirement already satisfied: pytz>=2020.1 in /home/popoyi/ssdbox/fact/utilhub/home-pyenv/.pyenv/versions/3.11.8/lib/python3.11/site-packages (from pandas>=0.23->pandas_datareader) (2024.1)\n",
      "Requirement already satisfied: tzdata>=2022.7 in /home/popoyi/ssdbox/fact/utilhub/home-pyenv/.pyenv/versions/3.11.8/lib/python3.11/site-packages (from pandas>=0.23->pandas_datareader) (2024.1)\n",
      "Requirement already satisfied: charset-normalizer<4,>=2 in /home/popoyi/ssdbox/fact/utilhub/home-pyenv/.pyenv/versions/3.11.8/lib/python3.11/site-packages (from requests>=2.19.0->pandas_datareader) (3.3.2)\n",
      "Requirement already satisfied: idna<4,>=2.5 in /home/popoyi/ssdbox/fact/utilhub/home-pyenv/.pyenv/versions/3.11.8/lib/python3.11/site-packages (from requests>=2.19.0->pandas_datareader) (3.6)\n",
      "Requirement already satisfied: urllib3<3,>=1.21.1 in /home/popoyi/ssdbox/fact/utilhub/home-pyenv/.pyenv/versions/3.11.8/lib/python3.11/site-packages (from requests>=2.19.0->pandas_datareader) (2.2.1)\n",
      "Requirement already satisfied: certifi>=2017.4.17 in /home/popoyi/ssdbox/fact/utilhub/home-pyenv/.pyenv/versions/3.11.8/lib/python3.11/site-packages (from requests>=2.19.0->pandas_datareader) (2024.2.2)\n",
      "Requirement already satisfied: six>=1.5 in /home/popoyi/ssdbox/fact/utilhub/home-pyenv/.pyenv/versions/3.11.8/lib/python3.11/site-packages (from python-dateutil>=2.8.2->pandas>=0.23->pandas_datareader) (1.16.0)\n",
      "Downloading pandas_datareader-0.10.0-py3-none-any.whl (109 kB)\n",
      "\u001b[2K   \u001b[38;2;114;156;31m━━━━━━━━━━━━━━━━━━━━━━━━━━━━━━━━━━━━━━━━\u001b[0m \u001b[32m109.5/109.5 kB\u001b[0m \u001b[31m1.9 MB/s\u001b[0m eta \u001b[36m0:00:00\u001b[0mMB/s\u001b[0m eta \u001b[36m0:00:01\u001b[0m\n",
      "\u001b[?25hDownloading lxml-5.2.1-cp311-cp311-manylinux_2_28_x86_64.whl (5.0 MB)\n",
      "\u001b[2K   \u001b[38;2;114;156;31m━━━━━━━━━━━━━━━━━━━━━━━━━━━━━━━━━━━━━━━━\u001b[0m \u001b[32m5.0/5.0 MB\u001b[0m \u001b[31m5.5 MB/s\u001b[0m eta \u001b[36m0:00:00\u001b[0mm eta \u001b[36m0:00:01\u001b[0m[36m0:00:01\u001b[0m\n",
      "\u001b[?25hInstalling collected packages: lxml, pandas_datareader\n",
      "Successfully installed lxml-5.2.1 pandas_datareader-0.10.0\n",
      "Collecting yfinance\n",
      "  Downloading yfinance-0.2.38-py2.py3-none-any.whl.metadata (11 kB)\n",
      "Requirement already satisfied: pandas>=1.3.0 in /home/popoyi/ssdbox/fact/utilhub/home-pyenv/.pyenv/versions/3.11.8/lib/python3.11/site-packages (from yfinance) (2.2.1)\n",
      "Requirement already satisfied: numpy>=1.16.5 in /home/popoyi/ssdbox/fact/utilhub/home-pyenv/.pyenv/versions/3.11.8/lib/python3.11/site-packages (from yfinance) (1.26.4)\n",
      "Requirement already satisfied: requests>=2.31 in /home/popoyi/ssdbox/fact/utilhub/home-pyenv/.pyenv/versions/3.11.8/lib/python3.11/site-packages (from yfinance) (2.31.0)\n",
      "Collecting multitasking>=0.0.7 (from yfinance)\n",
      "  Downloading multitasking-0.0.11-py3-none-any.whl.metadata (5.5 kB)\n",
      "Requirement already satisfied: lxml>=4.9.1 in /home/popoyi/ssdbox/fact/utilhub/home-pyenv/.pyenv/versions/3.11.8/lib/python3.11/site-packages (from yfinance) (5.2.1)\n",
      "Collecting appdirs>=1.4.4 (from yfinance)\n",
      "  Using cached appdirs-1.4.4-py2.py3-none-any.whl.metadata (9.0 kB)\n",
      "Requirement already satisfied: pytz>=2022.5 in /home/popoyi/ssdbox/fact/utilhub/home-pyenv/.pyenv/versions/3.11.8/lib/python3.11/site-packages (from yfinance) (2024.1)\n",
      "Collecting frozendict>=2.3.4 (from yfinance)\n",
      "  Downloading frozendict-2.4.2.tar.gz (315 kB)\n",
      "\u001b[2K     \u001b[38;2;114;156;31m━━━━━━━━━━━━━━━━━━━━━━━━━━━━━━━━━━━━━\u001b[0m \u001b[32m315.3/315.3 kB\u001b[0m \u001b[31m791.9 kB/s\u001b[0m eta \u001b[36m0:00:00\u001b[0m[36m0:00:01\u001b[0m[36m0:00:01\u001b[0m:01\u001b[0m\n",
      "\u001b[?25h  Installing build dependencies ... \u001b[?25ldone\n",
      "\u001b[?25h  Getting requirements to build wheel ... \u001b[?25ldone\n",
      "\u001b[?25h  Installing backend dependencies ... \u001b[?25ldone\n",
      "\u001b[?25h  Preparing metadata (pyproject.toml) ... \u001b[?25ldone\n",
      "\u001b[?25hCollecting peewee>=3.16.2 (from yfinance)\n",
      "  Downloading peewee-3.17.3.tar.gz (3.0 MB)\n",
      "\u001b[2K     \u001b[38;2;114;156;31m━━━━━━━━━━━━━━━━━━━━━━━━━━━━━━━━━━━━━━━━\u001b[0m \u001b[32m3.0/3.0 MB\u001b[0m \u001b[31m2.1 MB/s\u001b[0m eta \u001b[36m0:00:00\u001b[0mm eta \u001b[36m0:00:01\u001b[0m0:01\u001b[0m:01\u001b[0m\n",
      "\u001b[?25h  Installing build dependencies ... \u001b[?25ldone\n",
      "\u001b[?25h  Getting requirements to build wheel ... \u001b[?25ldone\n",
      "\u001b[?25h  Preparing metadata (pyproject.toml) ... \u001b[?25ldone\n",
      "\u001b[?25hRequirement already satisfied: beautifulsoup4>=4.11.1 in /home/popoyi/ssdbox/fact/utilhub/home-pyenv/.pyenv/versions/3.11.8/lib/python3.11/site-packages (from yfinance) (4.12.3)\n",
      "Collecting html5lib>=1.1 (from yfinance)\n",
      "  Downloading html5lib-1.1-py2.py3-none-any.whl.metadata (16 kB)\n",
      "Requirement already satisfied: soupsieve>1.2 in /home/popoyi/ssdbox/fact/utilhub/home-pyenv/.pyenv/versions/3.11.8/lib/python3.11/site-packages (from beautifulsoup4>=4.11.1->yfinance) (2.5)\n",
      "Requirement already satisfied: six>=1.9 in /home/popoyi/ssdbox/fact/utilhub/home-pyenv/.pyenv/versions/3.11.8/lib/python3.11/site-packages (from html5lib>=1.1->yfinance) (1.16.0)\n",
      "Requirement already satisfied: webencodings in /home/popoyi/ssdbox/fact/utilhub/home-pyenv/.pyenv/versions/3.11.8/lib/python3.11/site-packages (from html5lib>=1.1->yfinance) (0.5.1)\n",
      "Requirement already satisfied: python-dateutil>=2.8.2 in /home/popoyi/ssdbox/fact/utilhub/home-pyenv/.pyenv/versions/3.11.8/lib/python3.11/site-packages (from pandas>=1.3.0->yfinance) (2.9.0.post0)\n",
      "Requirement already satisfied: tzdata>=2022.7 in /home/popoyi/ssdbox/fact/utilhub/home-pyenv/.pyenv/versions/3.11.8/lib/python3.11/site-packages (from pandas>=1.3.0->yfinance) (2024.1)\n",
      "Requirement already satisfied: charset-normalizer<4,>=2 in /home/popoyi/ssdbox/fact/utilhub/home-pyenv/.pyenv/versions/3.11.8/lib/python3.11/site-packages (from requests>=2.31->yfinance) (3.3.2)\n",
      "Requirement already satisfied: idna<4,>=2.5 in /home/popoyi/ssdbox/fact/utilhub/home-pyenv/.pyenv/versions/3.11.8/lib/python3.11/site-packages (from requests>=2.31->yfinance) (3.6)\n",
      "Requirement already satisfied: urllib3<3,>=1.21.1 in /home/popoyi/ssdbox/fact/utilhub/home-pyenv/.pyenv/versions/3.11.8/lib/python3.11/site-packages (from requests>=2.31->yfinance) (2.2.1)\n",
      "Requirement already satisfied: certifi>=2017.4.17 in /home/popoyi/ssdbox/fact/utilhub/home-pyenv/.pyenv/versions/3.11.8/lib/python3.11/site-packages (from requests>=2.31->yfinance) (2024.2.2)\n",
      "Downloading yfinance-0.2.38-py2.py3-none-any.whl (72 kB)\n",
      "\u001b[2K   \u001b[38;2;114;156;31m━━━━━━━━━━━━━━━━━━━━━━━━━━━━━━━━━━━━━━━━\u001b[0m \u001b[32m73.0/73.0 kB\u001b[0m \u001b[31m2.2 MB/s\u001b[0m eta \u001b[36m0:00:00\u001b[0m\n",
      "\u001b[?25hUsing cached appdirs-1.4.4-py2.py3-none-any.whl (9.6 kB)\n",
      "Downloading html5lib-1.1-py2.py3-none-any.whl (112 kB)\n",
      "\u001b[2K   \u001b[38;2;114;156;31m━━━━━━━━━━━━━━━━━━━━━━━━━━━━━━━━━━━━━━━━\u001b[0m \u001b[32m112.2/112.2 kB\u001b[0m \u001b[31m2.4 MB/s\u001b[0m eta \u001b[36m0:00:00\u001b[0m[31m3.1 MB/s\u001b[0m eta \u001b[36m0:00:01\u001b[0m\n",
      "\u001b[?25hDownloading multitasking-0.0.11-py3-none-any.whl (8.5 kB)\n",
      "Building wheels for collected packages: frozendict, peewee\n",
      "  Building wheel for frozendict (pyproject.toml) ... \u001b[?25ldone\n",
      "\u001b[?25h  Created wheel for frozendict: filename=frozendict-2.4.2-cp311-cp311-linux_x86_64.whl size=15500 sha256=d992aa94e8a5d7e9320e63054efe2f9b14d961fc2cce091b2c1bd6eab72f5a46\n",
      "  Stored in directory: /home/popoyi/.cache/pip/wheels/b6/d6/b5/da9ad65b3c11d2d2f3245b0b2476231dc58a2a91768c5ec755\n",
      "  Building wheel for peewee (pyproject.toml) ... \u001b[?25ldone\n",
      "\u001b[?25h  Created wheel for peewee: filename=peewee-3.17.3-cp311-cp311-linux_x86_64.whl size=893601 sha256=0d97422e57516c29cf6c40bb4e1e977113ce5fc00cc6339ed99434e82431a278\n",
      "  Stored in directory: /home/popoyi/.cache/pip/wheels/3e/3d/30/a54ad8c2307aa653f234a6f651ab12fbc5cfbb3f383145ab6a\n",
      "Successfully built frozendict peewee\n",
      "Installing collected packages: peewee, multitasking, appdirs, html5lib, frozendict, yfinance\n",
      "Successfully installed appdirs-1.4.4 frozendict-2.4.2 html5lib-1.1 multitasking-0.0.11 peewee-3.17.3 yfinance-0.2.38\n"
     ]
    }
   ],
   "source": [
    "!pip install pandas\n",
    "!pip install pandas_datareader\n",
    "!pip install yfinance"
   ]
  },
  {
   "cell_type": "code",
   "execution_count": 1,
   "metadata": {},
   "outputs": [],
   "source": [
    "import pandas as pd"
   ]
  },
  {
   "cell_type": "markdown",
   "metadata": {},
   "source": [
    "### Question 1: [Macro] Average growth of GDP in 2023\n",
    "\n",
    "**What is the average growth (in %) of GDP in 2023?**\n",
    "\n",
    "Download the timeseries Real Gross Domestic Product (GDPC1) from FRED (https://fred.stlouisfed.org/series/GDPC1). \n",
    "Calculate year-over-year (YoY) growth rate (that is, divide current value to one 4 quarters ago). Find the average YoY growth in 2023 (average from 4 YoY numbers).\n",
    "Round to 1 digit after the decimal point: e.g. if you get 5.66% growth => you should answer  5.7"
   ]
  },
  {
   "cell_type": "code",
   "execution_count": 4,
   "metadata": {},
   "outputs": [],
   "source": [
    "# Load the dataset\n",
    "df = pd.read_csv('../../03-dataset/01-fred/GDPC1-01-2022-10-2023.csv')\n"
   ]
  },
  {
   "cell_type": "code",
   "execution_count": 5,
   "metadata": {},
   "outputs": [],
   "source": [
    "# Convert the date column to datetime\n",
    "df['DATE'] = pd.to_datetime(df['DATE'])\n",
    "\n",
    "# Set the date column as the index\n",
    "df.set_index('DATE', inplace=True)"
   ]
  },
  {
   "cell_type": "code",
   "execution_count": 6,
   "metadata": {},
   "outputs": [],
   "source": [
    "# Calculate year-over-year growth rates\n",
    "df['YoY_Growth'] = df['GDPC1'].pct_change(periods=4)"
   ]
  },
  {
   "cell_type": "code",
   "execution_count": 11,
   "metadata": {},
   "outputs": [
    {
     "name": "stdout",
     "output_type": "stream",
     "text": [
      "Number of rows: 8\n",
      "Number of columns: 2\n"
     ]
    },
    {
     "data": {
      "text/html": [
       "<div>\n",
       "<style scoped>\n",
       "    .dataframe tbody tr th:only-of-type {\n",
       "        vertical-align: middle;\n",
       "    }\n",
       "\n",
       "    .dataframe tbody tr th {\n",
       "        vertical-align: top;\n",
       "    }\n",
       "\n",
       "    .dataframe thead th {\n",
       "        text-align: right;\n",
       "    }\n",
       "</style>\n",
       "<table border=\"1\" class=\"dataframe\">\n",
       "  <thead>\n",
       "    <tr style=\"text-align: right;\">\n",
       "      <th></th>\n",
       "      <th>GDPC1</th>\n",
       "      <th>YoY_Growth</th>\n",
       "    </tr>\n",
       "    <tr>\n",
       "      <th>DATE</th>\n",
       "      <th></th>\n",
       "      <th></th>\n",
       "    </tr>\n",
       "  </thead>\n",
       "  <tbody>\n",
       "    <tr>\n",
       "      <th>2022-01-01</th>\n",
       "      <td>21738.871</td>\n",
       "      <td>NaN</td>\n",
       "    </tr>\n",
       "    <tr>\n",
       "      <th>2022-04-01</th>\n",
       "      <td>21708.160</td>\n",
       "      <td>NaN</td>\n",
       "    </tr>\n",
       "    <tr>\n",
       "      <th>2022-07-01</th>\n",
       "      <td>21851.134</td>\n",
       "      <td>NaN</td>\n",
       "    </tr>\n",
       "    <tr>\n",
       "      <th>2022-10-01</th>\n",
       "      <td>21989.981</td>\n",
       "      <td>NaN</td>\n",
       "    </tr>\n",
       "    <tr>\n",
       "      <th>2023-01-01</th>\n",
       "      <td>22112.329</td>\n",
       "      <td>0.017179</td>\n",
       "    </tr>\n",
       "    <tr>\n",
       "      <th>2023-04-01</th>\n",
       "      <td>22225.350</td>\n",
       "      <td>0.023825</td>\n",
       "    </tr>\n",
       "    <tr>\n",
       "      <th>2023-07-01</th>\n",
       "      <td>22490.692</td>\n",
       "      <td>0.029269</td>\n",
       "    </tr>\n",
       "    <tr>\n",
       "      <th>2023-10-01</th>\n",
       "      <td>22679.255</td>\n",
       "      <td>0.031345</td>\n",
       "    </tr>\n",
       "  </tbody>\n",
       "</table>\n",
       "</div>"
      ],
      "text/plain": [
       "                GDPC1  YoY_Growth\n",
       "DATE                             \n",
       "2022-01-01  21738.871         NaN\n",
       "2022-04-01  21708.160         NaN\n",
       "2022-07-01  21851.134         NaN\n",
       "2022-10-01  21989.981         NaN\n",
       "2023-01-01  22112.329    0.017179\n",
       "2023-04-01  22225.350    0.023825\n",
       "2023-07-01  22490.692    0.029269\n",
       "2023-10-01  22679.255    0.031345"
      ]
     },
     "execution_count": 11,
     "metadata": {},
     "output_type": "execute_result"
    }
   ],
   "source": [
    "num_rows, num_cols = df.shape\n",
    "print(f\"Number of rows: {num_rows}\")\n",
    "print(f\"Number of columns: {num_cols}\")\n",
    "\n",
    "df.head(num_rows)"
   ]
  },
  {
   "cell_type": "code",
   "execution_count": 7,
   "metadata": {},
   "outputs": [
    {
     "name": "stdout",
     "output_type": "stream",
     "text": [
      "The average year-over-year GDP growth rate for 2023 is: 2.5%\n"
     ]
    }
   ],
   "source": [
    "# Filter for 2023 data\n",
    "df_2023 = df[df.index.year == 2023]\n",
    "\n",
    "# Calculate average YoY growth for 2023\n",
    "avg_yoy_2023 = df_2023['YoY_Growth'].mean() * 100\n"
   ]
  },
  {
   "cell_type": "code",
   "execution_count": 13,
   "metadata": {},
   "outputs": [
    {
     "name": "stdout",
     "output_type": "stream",
     "text": [
      "2.5404433928676253\n"
     ]
    }
   ],
   "source": [
    "print(avg_yoy_2023)"
   ]
  },
  {
   "cell_type": "code",
   "execution_count": 14,
   "metadata": {},
   "outputs": [
    {
     "name": "stdout",
     "output_type": "stream",
     "text": [
      "The average year-over-year GDP growth rate for 2023 is: 2.5%\n"
     ]
    }
   ],
   "source": [
    "# Round to 1 decimal place\n",
    "avg_yoy_2023_rounded = round(avg_yoy_2023, 1)\n",
    "\n",
    "print(f\"The average year-over-year GDP growth rate for 2023 is: {avg_yoy_2023_rounded}%\")"
   ]
  },
  {
   "cell_type": "markdown",
   "metadata": {},
   "source": [
    "---"
   ]
  },
  {
   "cell_type": "markdown",
   "metadata": {},
   "source": [
    "### Question 2. [Macro] Inverse \"Treasury Yield\"\n",
    "\n",
    "**Find the min value of (dgs10-dgs2) after since year 2000 (2000-01-01) and write it down as an answer, round to 1 digit after the decimal point.**\n",
    "\n",
    "\n",
    "Download DGS2 and DGS10 interest rates series (https://fred.stlouisfed.org/series/DGS2,\n",
    " https://fred.stlouisfed.org/series/DGS10). Join them together to one dataframe on date (you might need to read about pandas.DataFrame.join()), calculate the difference dgs10-dgs2 daily.\n",
    "\n",
    "(Additional: think about what does the \"inverted yield curve\" mean for the market and investors? do you see the same thing in your country/market of interest? Do you think it can be a good predictive feature for the models?)"
   ]
  },
  {
   "cell_type": "code",
   "execution_count": 28,
   "metadata": {},
   "outputs": [],
   "source": [
    "# Load the dataset\n",
    "df_dgs2_bz = pd.read_csv('../../03-dataset/01-fred/DGS2-01-2000-04-2024.csv')\n",
    "df_dgs10_bz = pd.read_csv('../../03-dataset/01-fred/DGS10-01-2000-04-2024.csv')\n"
   ]
  },
  {
   "cell_type": "code",
   "execution_count": 29,
   "metadata": {},
   "outputs": [
    {
     "name": "stdout",
     "output_type": "stream",
     "text": [
      "Number of rows: 6342\n",
      "Number of columns: 2\n"
     ]
    },
    {
     "data": {
      "text/html": [
       "<div>\n",
       "<style scoped>\n",
       "    .dataframe tbody tr th:only-of-type {\n",
       "        vertical-align: middle;\n",
       "    }\n",
       "\n",
       "    .dataframe tbody tr th {\n",
       "        vertical-align: top;\n",
       "    }\n",
       "\n",
       "    .dataframe thead th {\n",
       "        text-align: right;\n",
       "    }\n",
       "</style>\n",
       "<table border=\"1\" class=\"dataframe\">\n",
       "  <thead>\n",
       "    <tr style=\"text-align: right;\">\n",
       "      <th></th>\n",
       "      <th>DATE</th>\n",
       "      <th>DGS2</th>\n",
       "    </tr>\n",
       "  </thead>\n",
       "  <tbody>\n",
       "    <tr>\n",
       "      <th>0</th>\n",
       "      <td>2000-01-03</td>\n",
       "      <td>6.380</td>\n",
       "    </tr>\n",
       "    <tr>\n",
       "      <th>1</th>\n",
       "      <td>2000-01-04</td>\n",
       "      <td>6.300</td>\n",
       "    </tr>\n",
       "    <tr>\n",
       "      <th>2</th>\n",
       "      <td>2000-01-05</td>\n",
       "      <td>6.380</td>\n",
       "    </tr>\n",
       "    <tr>\n",
       "      <th>3</th>\n",
       "      <td>2000-01-06</td>\n",
       "      <td>6.350</td>\n",
       "    </tr>\n",
       "    <tr>\n",
       "      <th>4</th>\n",
       "      <td>2000-01-07</td>\n",
       "      <td>6.310</td>\n",
       "    </tr>\n",
       "  </tbody>\n",
       "</table>\n",
       "</div>"
      ],
      "text/plain": [
       "         DATE   DGS2\n",
       "0  2000-01-03  6.380\n",
       "1  2000-01-04  6.300\n",
       "2  2000-01-05  6.380\n",
       "3  2000-01-06  6.350\n",
       "4  2000-01-07  6.310"
      ]
     },
     "execution_count": 29,
     "metadata": {},
     "output_type": "execute_result"
    }
   ],
   "source": [
    "num_rows, num_cols = df_dgs2_bz.shape\n",
    "print(f\"Number of rows: {num_rows}\")\n",
    "print(f\"Number of columns: {num_cols}\")\n",
    "\n",
    "df_dgs2_bz.head(5)\n"
   ]
  },
  {
   "cell_type": "code",
   "execution_count": 30,
   "metadata": {},
   "outputs": [
    {
     "name": "stdout",
     "output_type": "stream",
     "text": [
      "Number of rows: 6342\n",
      "Number of columns: 2\n"
     ]
    },
    {
     "data": {
      "text/html": [
       "<div>\n",
       "<style scoped>\n",
       "    .dataframe tbody tr th:only-of-type {\n",
       "        vertical-align: middle;\n",
       "    }\n",
       "\n",
       "    .dataframe tbody tr th {\n",
       "        vertical-align: top;\n",
       "    }\n",
       "\n",
       "    .dataframe thead th {\n",
       "        text-align: right;\n",
       "    }\n",
       "</style>\n",
       "<table border=\"1\" class=\"dataframe\">\n",
       "  <thead>\n",
       "    <tr style=\"text-align: right;\">\n",
       "      <th></th>\n",
       "      <th>DATE</th>\n",
       "      <th>DGS10</th>\n",
       "    </tr>\n",
       "  </thead>\n",
       "  <tbody>\n",
       "    <tr>\n",
       "      <th>0</th>\n",
       "      <td>2000-01-03</td>\n",
       "      <td>6.58</td>\n",
       "    </tr>\n",
       "    <tr>\n",
       "      <th>1</th>\n",
       "      <td>2000-01-04</td>\n",
       "      <td>6.49</td>\n",
       "    </tr>\n",
       "    <tr>\n",
       "      <th>2</th>\n",
       "      <td>2000-01-05</td>\n",
       "      <td>6.62</td>\n",
       "    </tr>\n",
       "    <tr>\n",
       "      <th>3</th>\n",
       "      <td>2000-01-06</td>\n",
       "      <td>6.57</td>\n",
       "    </tr>\n",
       "    <tr>\n",
       "      <th>4</th>\n",
       "      <td>2000-01-07</td>\n",
       "      <td>6.52</td>\n",
       "    </tr>\n",
       "  </tbody>\n",
       "</table>\n",
       "</div>"
      ],
      "text/plain": [
       "         DATE DGS10\n",
       "0  2000-01-03  6.58\n",
       "1  2000-01-04  6.49\n",
       "2  2000-01-05  6.62\n",
       "3  2000-01-06  6.57\n",
       "4  2000-01-07  6.52"
      ]
     },
     "execution_count": 30,
     "metadata": {},
     "output_type": "execute_result"
    }
   ],
   "source": [
    "num_rows, num_cols = df_dgs10_bz.shape\n",
    "print(f\"Number of rows: {num_rows}\")\n",
    "print(f\"Number of columns: {num_cols}\")\n",
    "\n",
    "df_dgs10_bz.head(5)"
   ]
  },
  {
   "cell_type": "code",
   "execution_count": 31,
   "metadata": {},
   "outputs": [],
   "source": [
    "# Convert 'DGS2' and 'DGS10' columns to float, coercing invalid values to NaN\n",
    "df_dgs2_bz['DGS2'] = pd.to_numeric(df_dgs2_bz['DGS2'], errors='coerce')\n",
    "df_dgs10_bz['DGS10'] = pd.to_numeric(df_dgs10_bz['DGS10'], errors='coerce')\n",
    "\n",
    "# Clean up missing values if necessary\n",
    "df_dgs2_bz.dropna(subset=['DGS2'], inplace=True)\n",
    "df_dgs10_bz.dropna(subset=['DGS10'], inplace=True)\n"
   ]
  },
  {
   "cell_type": "code",
   "execution_count": 32,
   "metadata": {},
   "outputs": [],
   "source": [
    "# Convert the date column to datetime\n",
    "df_dgs2_bz['DATE'] = pd.to_datetime(df_dgs2_bz['DATE'])\n",
    "df_dgs10_bz['DATE'] = pd.to_datetime(df_dgs10_bz['DATE'])\n",
    "\n",
    "# Set the date column as the index\n",
    "df_dgs2_bz.set_index('DATE', inplace=True)\n",
    "df_dgs10_bz.set_index('DATE', inplace=True)"
   ]
  },
  {
   "cell_type": "code",
   "execution_count": 33,
   "metadata": {},
   "outputs": [
    {
     "name": "stdout",
     "output_type": "stream",
     "text": [
      "Number of rows: 6081\n",
      "Number of columns: 1\n"
     ]
    },
    {
     "data": {
      "text/html": [
       "<div>\n",
       "<style scoped>\n",
       "    .dataframe tbody tr th:only-of-type {\n",
       "        vertical-align: middle;\n",
       "    }\n",
       "\n",
       "    .dataframe tbody tr th {\n",
       "        vertical-align: top;\n",
       "    }\n",
       "\n",
       "    .dataframe thead th {\n",
       "        text-align: right;\n",
       "    }\n",
       "</style>\n",
       "<table border=\"1\" class=\"dataframe\">\n",
       "  <thead>\n",
       "    <tr style=\"text-align: right;\">\n",
       "      <th></th>\n",
       "      <th>DGS2</th>\n",
       "    </tr>\n",
       "    <tr>\n",
       "      <th>DATE</th>\n",
       "      <th></th>\n",
       "    </tr>\n",
       "  </thead>\n",
       "  <tbody>\n",
       "    <tr>\n",
       "      <th>2000-01-03</th>\n",
       "      <td>6.38</td>\n",
       "    </tr>\n",
       "    <tr>\n",
       "      <th>2000-01-04</th>\n",
       "      <td>6.30</td>\n",
       "    </tr>\n",
       "    <tr>\n",
       "      <th>2000-01-05</th>\n",
       "      <td>6.38</td>\n",
       "    </tr>\n",
       "    <tr>\n",
       "      <th>2000-01-06</th>\n",
       "      <td>6.35</td>\n",
       "    </tr>\n",
       "    <tr>\n",
       "      <th>2000-01-07</th>\n",
       "      <td>6.31</td>\n",
       "    </tr>\n",
       "  </tbody>\n",
       "</table>\n",
       "</div>"
      ],
      "text/plain": [
       "            DGS2\n",
       "DATE            \n",
       "2000-01-03  6.38\n",
       "2000-01-04  6.30\n",
       "2000-01-05  6.38\n",
       "2000-01-06  6.35\n",
       "2000-01-07  6.31"
      ]
     },
     "execution_count": 33,
     "metadata": {},
     "output_type": "execute_result"
    }
   ],
   "source": [
    "num_rows, num_cols = df_dgs2_bz.shape\n",
    "print(f\"Number of rows: {num_rows}\")\n",
    "print(f\"Number of columns: {num_cols}\")\n",
    "\n",
    "df_dgs2_bz.head(5)\n"
   ]
  },
  {
   "cell_type": "code",
   "execution_count": 34,
   "metadata": {},
   "outputs": [
    {
     "name": "stdout",
     "output_type": "stream",
     "text": [
      "Number of rows: 6081\n",
      "Number of columns: 1\n"
     ]
    },
    {
     "data": {
      "text/html": [
       "<div>\n",
       "<style scoped>\n",
       "    .dataframe tbody tr th:only-of-type {\n",
       "        vertical-align: middle;\n",
       "    }\n",
       "\n",
       "    .dataframe tbody tr th {\n",
       "        vertical-align: top;\n",
       "    }\n",
       "\n",
       "    .dataframe thead th {\n",
       "        text-align: right;\n",
       "    }\n",
       "</style>\n",
       "<table border=\"1\" class=\"dataframe\">\n",
       "  <thead>\n",
       "    <tr style=\"text-align: right;\">\n",
       "      <th></th>\n",
       "      <th>DGS10</th>\n",
       "    </tr>\n",
       "    <tr>\n",
       "      <th>DATE</th>\n",
       "      <th></th>\n",
       "    </tr>\n",
       "  </thead>\n",
       "  <tbody>\n",
       "    <tr>\n",
       "      <th>2000-01-03</th>\n",
       "      <td>6.58</td>\n",
       "    </tr>\n",
       "    <tr>\n",
       "      <th>2000-01-04</th>\n",
       "      <td>6.49</td>\n",
       "    </tr>\n",
       "    <tr>\n",
       "      <th>2000-01-05</th>\n",
       "      <td>6.62</td>\n",
       "    </tr>\n",
       "    <tr>\n",
       "      <th>2000-01-06</th>\n",
       "      <td>6.57</td>\n",
       "    </tr>\n",
       "    <tr>\n",
       "      <th>2000-01-07</th>\n",
       "      <td>6.52</td>\n",
       "    </tr>\n",
       "  </tbody>\n",
       "</table>\n",
       "</div>"
      ],
      "text/plain": [
       "            DGS10\n",
       "DATE             \n",
       "2000-01-03   6.58\n",
       "2000-01-04   6.49\n",
       "2000-01-05   6.62\n",
       "2000-01-06   6.57\n",
       "2000-01-07   6.52"
      ]
     },
     "execution_count": 34,
     "metadata": {},
     "output_type": "execute_result"
    }
   ],
   "source": [
    "num_rows, num_cols = df_dgs10_bz.shape\n",
    "print(f\"Number of rows: {num_rows}\")\n",
    "print(f\"Number of columns: {num_cols}\")\n",
    "\n",
    "df_dgs10_bz.head(5)"
   ]
  },
  {
   "cell_type": "code",
   "execution_count": 38,
   "metadata": {},
   "outputs": [
    {
     "name": "stdout",
     "output_type": "stream",
     "text": [
      "            DGS2  DGS10  DIFF\n",
      "DATE                         \n",
      "2000-01-03  6.38   6.58  0.20\n",
      "2000-01-04  6.30   6.49  0.19\n",
      "2000-01-05  6.38   6.62  0.24\n",
      "2000-01-06  6.35   6.57  0.22\n",
      "2000-01-07  6.31   6.52  0.21\n"
     ]
    }
   ],
   "source": [
    "# Join the dataframes on the 'DATE' column\n",
    "df_dgs_joined = df_dgs2_bz.join(df_dgs10_bz, how='inner')\n",
    "\n",
    "# Calculate the difference between 'DGS10' and 'DGS2'\n",
    "df_dgs_joined['DIFF'] = df_dgs_joined['DGS10'] - df_dgs_joined['DGS2']\n",
    "\n",
    "# Reset the index to make 'DATE' a regular column again\n",
    "df_dgs_joined.reset_index(inplace=True)\n",
    "df_dgs_joined.set_index('DATE', inplace=True)\n",
    "\n",
    "# Print the first few rows of the combined dataframe\n",
    "print(df_dgs_joined.head())"
   ]
  },
  {
   "cell_type": "code",
   "execution_count": 39,
   "metadata": {},
   "outputs": [
    {
     "name": "stdout",
     "output_type": "stream",
     "text": [
      "Number of rows: 6081\n",
      "Number of columns: 3\n"
     ]
    },
    {
     "data": {
      "text/html": [
       "<div>\n",
       "<style scoped>\n",
       "    .dataframe tbody tr th:only-of-type {\n",
       "        vertical-align: middle;\n",
       "    }\n",
       "\n",
       "    .dataframe tbody tr th {\n",
       "        vertical-align: top;\n",
       "    }\n",
       "\n",
       "    .dataframe thead th {\n",
       "        text-align: right;\n",
       "    }\n",
       "</style>\n",
       "<table border=\"1\" class=\"dataframe\">\n",
       "  <thead>\n",
       "    <tr style=\"text-align: right;\">\n",
       "      <th></th>\n",
       "      <th>DGS2</th>\n",
       "      <th>DGS10</th>\n",
       "      <th>DIFF</th>\n",
       "    </tr>\n",
       "    <tr>\n",
       "      <th>DATE</th>\n",
       "      <th></th>\n",
       "      <th></th>\n",
       "      <th></th>\n",
       "    </tr>\n",
       "  </thead>\n",
       "  <tbody>\n",
       "    <tr>\n",
       "      <th>2000-01-03</th>\n",
       "      <td>6.38</td>\n",
       "      <td>6.58</td>\n",
       "      <td>0.20</td>\n",
       "    </tr>\n",
       "    <tr>\n",
       "      <th>2000-01-04</th>\n",
       "      <td>6.30</td>\n",
       "      <td>6.49</td>\n",
       "      <td>0.19</td>\n",
       "    </tr>\n",
       "    <tr>\n",
       "      <th>2000-01-05</th>\n",
       "      <td>6.38</td>\n",
       "      <td>6.62</td>\n",
       "      <td>0.24</td>\n",
       "    </tr>\n",
       "    <tr>\n",
       "      <th>2000-01-06</th>\n",
       "      <td>6.35</td>\n",
       "      <td>6.57</td>\n",
       "      <td>0.22</td>\n",
       "    </tr>\n",
       "    <tr>\n",
       "      <th>2000-01-07</th>\n",
       "      <td>6.31</td>\n",
       "      <td>6.52</td>\n",
       "      <td>0.21</td>\n",
       "    </tr>\n",
       "  </tbody>\n",
       "</table>\n",
       "</div>"
      ],
      "text/plain": [
       "            DGS2  DGS10  DIFF\n",
       "DATE                         \n",
       "2000-01-03  6.38   6.58  0.20\n",
       "2000-01-04  6.30   6.49  0.19\n",
       "2000-01-05  6.38   6.62  0.24\n",
       "2000-01-06  6.35   6.57  0.22\n",
       "2000-01-07  6.31   6.52  0.21"
      ]
     },
     "execution_count": 39,
     "metadata": {},
     "output_type": "execute_result"
    }
   ],
   "source": [
    "num_rows, num_cols = df_dgs_joined.shape\n",
    "print(f\"Number of rows: {num_rows}\")\n",
    "print(f\"Number of columns: {num_cols}\")\n",
    "\n",
    "df_dgs_joined.head(5)"
   ]
  },
  {
   "cell_type": "code",
   "execution_count": 40,
   "metadata": {},
   "outputs": [
    {
     "name": "stdout",
     "output_type": "stream",
     "text": [
      "The minimum value of DIFF is: -1.1\n"
     ]
    }
   ],
   "source": [
    "min_diff = round(df_dgs_joined['DIFF'].min(), 1)\n",
    "print(f\"The minimum value of DIFF is: {min_diff}\")"
   ]
  },
  {
   "cell_type": "markdown",
   "metadata": {},
   "source": [
    "---\n",
    "### Question 3. [Index] Which Index is better recently?\n",
    "\n",
    "**Compare S&P 500 and IPC Mexico indexes by the 5 year growth and write down the largest value as an answer (%)**\n",
    "\n",
    "Download on Yahoo Finance two daily index prices for S&P 500 (^GSPC, https://finance.yahoo.com/quote/%5EGSPC/) and IPC Mexico (^MXX, https://finance.yahoo.com/quote/%5EMXX/). Compare 5Y growth for both (between 2019-04-09 and 2024-04-09). Select the higher growing index and write down the growth in % (closest integer %). E.g. if ratio end/start was 2.0925 (or growth of 109.25%), you need to write down 109 as your answer.\n",
    "\n",
    "(Additional: think of other indexes and try to download stats and compare the growth? Do create 10Y and 20Y growth stats. What is an average yearly growth rate (CAGR) for each of the indexes you select?)\n"
   ]
  },
  {
   "cell_type": "code",
   "execution_count": 42,
   "metadata": {},
   "outputs": [],
   "source": [
    "from pandas_datareader import data as pdr\n",
    "import yfinance as yf\n",
    "yf.pdr_override()"
   ]
  },
  {
   "cell_type": "code",
   "execution_count": 44,
   "metadata": {},
   "outputs": [
    {
     "name": "stderr",
     "output_type": "stream",
     "text": [
      "[*********************100%%**********************]  1 of 1 completed\n",
      "[*********************100%%**********************]  1 of 1 completed\n"
     ]
    }
   ],
   "source": [
    "# Set the start and end dates:\n",
    "start_date = '2019-04-09'\n",
    "end_date = '2024-04-09'\n",
    "\n",
    "# Download the data for S&P 500 and IPC Mexico:\n",
    "df_sp500_bz = pdr.get_data_yahoo('^GSPC', start=start_date, end=end_date)\n",
    "df_ipc_mexico_bz = pdr.get_data_yahoo('^MXX', start=start_date, end=end_date)\n",
    "\n"
   ]
  },
  {
   "cell_type": "code",
   "execution_count": 45,
   "metadata": {},
   "outputs": [
    {
     "name": "stdout",
     "output_type": "stream",
     "text": [
      "Number of rows: 1258\n",
      "Number of columns: 6\n"
     ]
    },
    {
     "data": {
      "text/html": [
       "<div>\n",
       "<style scoped>\n",
       "    .dataframe tbody tr th:only-of-type {\n",
       "        vertical-align: middle;\n",
       "    }\n",
       "\n",
       "    .dataframe tbody tr th {\n",
       "        vertical-align: top;\n",
       "    }\n",
       "\n",
       "    .dataframe thead th {\n",
       "        text-align: right;\n",
       "    }\n",
       "</style>\n",
       "<table border=\"1\" class=\"dataframe\">\n",
       "  <thead>\n",
       "    <tr style=\"text-align: right;\">\n",
       "      <th></th>\n",
       "      <th>Open</th>\n",
       "      <th>High</th>\n",
       "      <th>Low</th>\n",
       "      <th>Close</th>\n",
       "      <th>Adj Close</th>\n",
       "      <th>Volume</th>\n",
       "    </tr>\n",
       "    <tr>\n",
       "      <th>Date</th>\n",
       "      <th></th>\n",
       "      <th></th>\n",
       "      <th></th>\n",
       "      <th></th>\n",
       "      <th></th>\n",
       "      <th></th>\n",
       "    </tr>\n",
       "  </thead>\n",
       "  <tbody>\n",
       "    <tr>\n",
       "      <th>2019-04-09</th>\n",
       "      <td>2886.580078</td>\n",
       "      <td>2886.879883</td>\n",
       "      <td>2873.330078</td>\n",
       "      <td>2878.199951</td>\n",
       "      <td>2878.199951</td>\n",
       "      <td>3032480000</td>\n",
       "    </tr>\n",
       "    <tr>\n",
       "      <th>2019-04-10</th>\n",
       "      <td>2881.370117</td>\n",
       "      <td>2889.709961</td>\n",
       "      <td>2879.129883</td>\n",
       "      <td>2888.209961</td>\n",
       "      <td>2888.209961</td>\n",
       "      <td>3092230000</td>\n",
       "    </tr>\n",
       "    <tr>\n",
       "      <th>2019-04-11</th>\n",
       "      <td>2891.919922</td>\n",
       "      <td>2893.419922</td>\n",
       "      <td>2881.989990</td>\n",
       "      <td>2888.320068</td>\n",
       "      <td>2888.320068</td>\n",
       "      <td>2970650000</td>\n",
       "    </tr>\n",
       "    <tr>\n",
       "      <th>2019-04-12</th>\n",
       "      <td>2900.860107</td>\n",
       "      <td>2910.540039</td>\n",
       "      <td>2898.370117</td>\n",
       "      <td>2907.409912</td>\n",
       "      <td>2907.409912</td>\n",
       "      <td>3726050000</td>\n",
       "    </tr>\n",
       "    <tr>\n",
       "      <th>2019-04-15</th>\n",
       "      <td>2908.320068</td>\n",
       "      <td>2909.600098</td>\n",
       "      <td>2896.479980</td>\n",
       "      <td>2905.580078</td>\n",
       "      <td>2905.580078</td>\n",
       "      <td>3114530000</td>\n",
       "    </tr>\n",
       "  </tbody>\n",
       "</table>\n",
       "</div>"
      ],
      "text/plain": [
       "                   Open         High          Low        Close    Adj Close  \\\n",
       "Date                                                                          \n",
       "2019-04-09  2886.580078  2886.879883  2873.330078  2878.199951  2878.199951   \n",
       "2019-04-10  2881.370117  2889.709961  2879.129883  2888.209961  2888.209961   \n",
       "2019-04-11  2891.919922  2893.419922  2881.989990  2888.320068  2888.320068   \n",
       "2019-04-12  2900.860107  2910.540039  2898.370117  2907.409912  2907.409912   \n",
       "2019-04-15  2908.320068  2909.600098  2896.479980  2905.580078  2905.580078   \n",
       "\n",
       "                Volume  \n",
       "Date                    \n",
       "2019-04-09  3032480000  \n",
       "2019-04-10  3092230000  \n",
       "2019-04-11  2970650000  \n",
       "2019-04-12  3726050000  \n",
       "2019-04-15  3114530000  "
      ]
     },
     "execution_count": 45,
     "metadata": {},
     "output_type": "execute_result"
    }
   ],
   "source": [
    "num_rows, num_cols = df_sp500_bz.shape\n",
    "print(f\"Number of rows: {num_rows}\")\n",
    "print(f\"Number of columns: {num_cols}\")\n",
    "\n",
    "df_sp500_bz.head(5)"
   ]
  },
  {
   "cell_type": "code",
   "execution_count": 46,
   "metadata": {},
   "outputs": [
    {
     "name": "stdout",
     "output_type": "stream",
     "text": [
      "Number of rows: 1258\n",
      "Number of columns: 6\n"
     ]
    },
    {
     "data": {
      "text/html": [
       "<div>\n",
       "<style scoped>\n",
       "    .dataframe tbody tr th:only-of-type {\n",
       "        vertical-align: middle;\n",
       "    }\n",
       "\n",
       "    .dataframe tbody tr th {\n",
       "        vertical-align: top;\n",
       "    }\n",
       "\n",
       "    .dataframe thead th {\n",
       "        text-align: right;\n",
       "    }\n",
       "</style>\n",
       "<table border=\"1\" class=\"dataframe\">\n",
       "  <thead>\n",
       "    <tr style=\"text-align: right;\">\n",
       "      <th></th>\n",
       "      <th>Open</th>\n",
       "      <th>High</th>\n",
       "      <th>Low</th>\n",
       "      <th>Close</th>\n",
       "      <th>Adj Close</th>\n",
       "      <th>Volume</th>\n",
       "    </tr>\n",
       "    <tr>\n",
       "      <th>Date</th>\n",
       "      <th></th>\n",
       "      <th></th>\n",
       "      <th></th>\n",
       "      <th></th>\n",
       "      <th></th>\n",
       "      <th></th>\n",
       "    </tr>\n",
       "  </thead>\n",
       "  <tbody>\n",
       "    <tr>\n",
       "      <th>2019-04-09</th>\n",
       "      <td>45346.828125</td>\n",
       "      <td>45346.828125</td>\n",
       "      <td>44854.531250</td>\n",
       "      <td>45151.628906</td>\n",
       "      <td>45151.628906</td>\n",
       "      <td>191575000</td>\n",
       "    </tr>\n",
       "    <tr>\n",
       "      <th>2019-04-10</th>\n",
       "      <td>45204.750000</td>\n",
       "      <td>45219.410156</td>\n",
       "      <td>44850.109375</td>\n",
       "      <td>44909.140625</td>\n",
       "      <td>44909.140625</td>\n",
       "      <td>145314900</td>\n",
       "    </tr>\n",
       "    <tr>\n",
       "      <th>2019-04-11</th>\n",
       "      <td>44872.531250</td>\n",
       "      <td>44966.500000</td>\n",
       "      <td>44373.488281</td>\n",
       "      <td>44580.058594</td>\n",
       "      <td>44580.058594</td>\n",
       "      <td>109090000</td>\n",
       "    </tr>\n",
       "    <tr>\n",
       "      <th>2019-04-12</th>\n",
       "      <td>44767.671875</td>\n",
       "      <td>44888.699219</td>\n",
       "      <td>44534.378906</td>\n",
       "      <td>44686.058594</td>\n",
       "      <td>44686.058594</td>\n",
       "      <td>143662400</td>\n",
       "    </tr>\n",
       "    <tr>\n",
       "      <th>2019-04-15</th>\n",
       "      <td>44649.738281</td>\n",
       "      <td>44900.929688</td>\n",
       "      <td>44347.531250</td>\n",
       "      <td>44625.781250</td>\n",
       "      <td>44625.781250</td>\n",
       "      <td>108627100</td>\n",
       "    </tr>\n",
       "  </tbody>\n",
       "</table>\n",
       "</div>"
      ],
      "text/plain": [
       "                    Open          High           Low         Close  \\\n",
       "Date                                                                 \n",
       "2019-04-09  45346.828125  45346.828125  44854.531250  45151.628906   \n",
       "2019-04-10  45204.750000  45219.410156  44850.109375  44909.140625   \n",
       "2019-04-11  44872.531250  44966.500000  44373.488281  44580.058594   \n",
       "2019-04-12  44767.671875  44888.699219  44534.378906  44686.058594   \n",
       "2019-04-15  44649.738281  44900.929688  44347.531250  44625.781250   \n",
       "\n",
       "               Adj Close     Volume  \n",
       "Date                                 \n",
       "2019-04-09  45151.628906  191575000  \n",
       "2019-04-10  44909.140625  145314900  \n",
       "2019-04-11  44580.058594  109090000  \n",
       "2019-04-12  44686.058594  143662400  \n",
       "2019-04-15  44625.781250  108627100  "
      ]
     },
     "execution_count": 46,
     "metadata": {},
     "output_type": "execute_result"
    }
   ],
   "source": [
    "num_rows, num_cols = df_ipc_mexico_bz.shape\n",
    "print(f\"Number of rows: {num_rows}\")\n",
    "print(f\"Number of columns: {num_cols}\")\n",
    "\n",
    "df_ipc_mexico_bz.head(5)"
   ]
  },
  {
   "cell_type": "code",
   "execution_count": 48,
   "metadata": {},
   "outputs": [
    {
     "name": "stdout",
     "output_type": "stream",
     "text": [
      "sp500 Growth: 0.8075151917783085\n",
      "ipc mexico Growth: 0.2843377484045295\n"
     ]
    }
   ],
   "source": [
    "# 5. Calculate the growth for both indices:\n",
    "sp500_growth = (df_sp500_bz['Close'].iloc[-1] / df_sp500_bz['Close'].iloc[0]) - 1\n",
    "ipc_mexico_growth = (df_ipc_mexico_bz['Close'].iloc[-1] / df_ipc_mexico_bz['Close'].iloc[0]) - 1\n",
    "\n",
    "print(f\"sp500 Growth: {sp500_growth}\")\n",
    "print(f\"ipc mexico Growth: {ipc_mexico_growth}\")\n"
   ]
  },
  {
   "cell_type": "code",
   "execution_count": 49,
   "metadata": {},
   "outputs": [
    {
     "name": "stdout",
     "output_type": "stream",
     "text": [
      "sp500 Growth: 0.8075151917783014\n",
      "ipc mexico Growth: 0.2843377484045313\n"
     ]
    }
   ],
   "source": [
    "sp500_growth_v2 = (df_sp500_bz['Close'].pct_change() + 1).prod() - 1\n",
    "ipc_mexico_growth_v2 = (df_ipc_mexico_bz['Close'].pct_change() + 1).prod() - 1\n",
    "\n",
    "print(f\"sp500 Growth: {sp500_growth_v2}\")\n",
    "print(f\"ipc mexico Growth: {ipc_mexico_growth_v2}\")"
   ]
  },
  {
   "cell_type": "code",
   "execution_count": 50,
   "metadata": {},
   "outputs": [
    {
     "name": "stdout",
     "output_type": "stream",
     "text": [
      "The higher growing index is S&P 500 with a growth of 81%\n"
     ]
    }
   ],
   "source": [
    "# 6. Compare the growth and select the higher growing index:\n",
    "if sp500_growth > ipc_mexico_growth:\n",
    "    higher_growth_index = 'S&P 500'\n",
    "    higher_growth = sp500_growth\n",
    "else:\n",
    "    higher_growth_index = 'IPC Mexico'\n",
    "    higher_growth = ipc_mexico_growth\n",
    "\n",
    "print(f\"The higher growing index is {higher_growth_index} with a growth of {round(higher_growth * 100)}%\")\n"
   ]
  },
  {
   "cell_type": "markdown",
   "metadata": {},
   "source": [
    "---\n",
    "### Question 4. [Stocks OHLCV] 52-weeks range ratio (2023) for the selected stocks\n",
    "\n",
    "\n",
    "**Find the largest range ratio [=(max-min)/max] of Adj.Close prices in 2023**\n",
    "\n",
    "\n",
    "Download the 2023 daily OHLCV data on Yahoo Finance for top6 stocks on earnings (https://companiesmarketcap.com/most-profitable-companies/): 2222.SR,BRK-B, AAPL, MSFT, GOOG, JPM.\n",
    "\n",
    "Here is the example data you should see in Pandas for \"2222.SR\": https://finance.yahoo.com/quote/2222.SR/history\n",
    "\n",
    "Calculate maximum-minimim \"Adj.Close\" price for each stock and divide it by the maximum \"Adj.Close\" value.\n",
    "Round the result to two decimal places (e.g. 0.1575 will be 0.16)\n",
    "\n",
    "(Additional: why this may be important for your research?)\n"
   ]
  },
  {
   "cell_type": "code",
   "execution_count": 54,
   "metadata": {},
   "outputs": [],
   "source": [
    "start_date = '2023-01-01'\n",
    "end_date = '2023-12-31'\n",
    "\n",
    "# List of stock symbols\n",
    "top6_stocks = ['2222.SR', 'BRK-B', 'AAPL', 'MSFT', 'GOOG', 'JPM']"
   ]
  },
  {
   "cell_type": "code",
   "execution_count": 55,
   "metadata": {},
   "outputs": [
    {
     "name": "stderr",
     "output_type": "stream",
     "text": [
      "[*********************100%%**********************]  1 of 1 completed\n",
      "[*********************100%%**********************]  1 of 1 completed"
     ]
    },
    {
     "name": "stderr",
     "output_type": "stream",
     "text": [
      "\n",
      "[*********************100%%**********************]  1 of 1 completed\n",
      "[*********************100%%**********************]  1 of 1 completed\n",
      "[*********************100%%**********************]  1 of 1 completed\n",
      "[*********************100%%**********************]  1 of 1 completed\n"
     ]
    }
   ],
   "source": [
    "# Create an empty dictionary to store the dataframes\n",
    "top6_stock_data = {}\n",
    "\n",
    "# Download data for each stock\n",
    "for stock in top6_stocks:\n",
    "    top6_stock_data[stock] = pdr.get_data_yahoo(stock, start=start_date, end=end_date)\n"
   ]
  },
  {
   "cell_type": "code",
   "execution_count": 60,
   "metadata": {},
   "outputs": [
    {
     "name": "stdout",
     "output_type": "stream",
     "text": [
      "2222.SR: 0.21\n",
      "BRK-B: 0.21\n",
      "AAPL: 0.37\n",
      "MSFT: 0.42\n",
      "GOOG: 0.39\n",
      "JPM: 0.28\n"
     ]
    }
   ],
   "source": [
    "# Calculate maximum-minimum \"Adj Close\" price for each stock\n",
    "results = {}\n",
    "for stock, data in top6_stock_data.items():\n",
    "    max_price = data['Adj Close'].max()\n",
    "    min_price = data['Adj Close'].min()\n",
    "    max_min_diff = max_price - min_price\n",
    "    normalized_diff = round(max_min_diff / max_price, 2)\n",
    "    results[stock] = normalized_diff\n",
    "\n",
    "# Print the results\n",
    "for stock, normalized_diff in results.items():\n",
    "    print(f\"{stock}: {normalized_diff}\")"
   ]
  },
  {
   "cell_type": "code",
   "execution_count": 61,
   "metadata": {},
   "outputs": [
    {
     "name": "stdout",
     "output_type": "stream",
     "text": [
      "The stock with the largest range ratio is MSFT with a ratio of 0.42\n"
     ]
    }
   ],
   "source": [
    "# Find the stock with the largest range ratio\n",
    "largest_range_ratio_stock = max(results, key=results.get)\n",
    "largest_range_ratio = results[largest_range_ratio_stock]\n",
    "\n",
    "print(f\"The stock with the largest range ratio is {largest_range_ratio_stock} with a ratio of {largest_range_ratio}\")"
   ]
  },
  {
   "cell_type": "code",
   "execution_count": 58,
   "metadata": {},
   "outputs": [
    {
     "name": "stdout",
     "output_type": "stream",
     "text": [
      "2222.SR: 0.8\n",
      "BRK-B: 0.78\n",
      "AAPL: 0.62\n",
      "MSFT: 0.57\n",
      "GOOG: 0.59\n",
      "JPM: 0.72\n"
     ]
    }
   ],
   "source": [
    "# Calculate 52-week range ratio for each stock\n",
    "results = {}\n",
    "for stock, data in top6_stock_data.items():\n",
    "    low_52week = data['Low'].min()\n",
    "    high_52week = data['High'].max()\n",
    "    range_ratio = round(low_52week / high_52week, 2)\n",
    "    results[stock] = range_ratio\n",
    "\n",
    "# Print the results\n",
    "for stock, range_ratio in results.items():\n",
    "    print(f\"{stock}: {range_ratio}\")"
   ]
  },
  {
   "cell_type": "markdown",
   "metadata": {},
   "source": [
    "### Question 5. [Stocks] Dividend Yield\n",
    "**Find the largest dividend yield for the same set of stocks**\n",
    "\n",
    "Use the same list of companies (2222.SR,BRK-B, AAPL, MSFT, GOOG, JPM) and download all dividends paid in 2023.\n",
    "You can use `get_actions()` method or `.dividends` field in yfinance library (https://github.com/ranaroussi/yfinance?tab=readme-ov-file#quick-start)\n",
    "\n",
    "Sum up all dividends paid in 2023 per company and divide each value by the closing price (Adj.Close) at the last trading day of the year.\n",
    "\n",
    "Find the maximum value in % and round to 1 digit after the decimal point. (E.g., if you obtained $1.25 dividends paid and the end year stock price is $100, the dividend yield is 1.25% -- and your answer should be equal to 1.3)"
   ]
  },
  {
   "cell_type": "code",
   "execution_count": 19,
   "metadata": {},
   "outputs": [],
   "source": [
    "import yfinance as yf\n",
    "\n",
    "start_date = '2023-01-01'\n",
    "end_date = '2023-12-31'\n",
    "\n",
    "# List of stock symbols\n",
    "top6_stocks = ['2222.SR', 'BRK-B', 'AAPL', 'MSFT', 'GOOG', 'JPM']\n",
    "# top6_stocks = ['2222.SR']"
   ]
  },
  {
   "cell_type": "code",
   "execution_count": 20,
   "metadata": {},
   "outputs": [],
   "source": [
    "# Create an empty dictionary to store the dataframes\n",
    "top6_stock_actions_data = {}\n",
    "top6_stock_history_data = {}\n",
    "top6_stock_dividend_yields = {}\n",
    "\n",
    "# Download data for each stock\n",
    "for stock in top6_stocks:\n",
    "    stock_ticker_instance = yf.Ticker(stock)\n",
    "    actions_data = stock_ticker_instance.actions\n",
    "    top6_stock_actions_data[stock] = stock_ticker_instance.actions\n",
    "\n",
    "    # Filter actions_data for 2023\n",
    "    actions_data_2023 = actions_data.loc[actions_data.index.year == 2023]\n",
    "\n",
    "    # Sum up the dividends for 2023\n",
    "    total_dividends = actions_data_2023['Dividends'].sum()\n",
    "\n",
    "    # Fetch the closing price on the last trading day of 2023\n",
    "    history_data = stock_ticker_instance.history(start=start_date, end=end_date)\n",
    "    top6_stock_history_data[stock] = history_data\n",
    "    closing_price = history_data['Close'].iloc[-1]\n",
    "\n",
    "    # Calculate the dividend yield percentage\n",
    "    dividend_yield = (total_dividends / closing_price) * 100\n",
    "\n",
    "    # Store the dividend yield in the dictionary\n",
    "    top6_stock_dividend_yields[stock] = dividend_yield"
   ]
  },
  {
   "cell_type": "code",
   "execution_count": 21,
   "metadata": {},
   "outputs": [
    {
     "name": "stdout",
     "output_type": "stream",
     "text": [
      "2222.SR: 2.770149819503256\n",
      "BRK-B: 0.0\n",
      "AAPL: 0.4940592304162832\n",
      "MSFT: 0.7433143940964608\n",
      "GOOG: 0.0\n",
      "JPM: 2.409608190645897\n"
     ]
    }
   ],
   "source": [
    "for stock, dividend_yield in top6_stock_dividend_yields.items():\n",
    "    print(f\"{stock}: {dividend_yield}\")   "
   ]
  },
  {
   "cell_type": "code",
   "execution_count": 22,
   "metadata": {},
   "outputs": [
    {
     "name": "stdout",
     "output_type": "stream",
     "text": [
      "The maximum dividend yield among the top 6 stocks in 2023 is: 2.8%\n"
     ]
    }
   ],
   "source": [
    "# Find the maximum dividend yield and round to 1 decimal place\n",
    "max_dividend_yield = round(max(top6_stock_dividend_yields.values()), 1)\n",
    "\n",
    "print(f\"The maximum dividend yield among the top 6 stocks in 2023 is: {max_dividend_yield}%\")"
   ]
  },
  {
   "cell_type": "code",
   "execution_count": 18,
   "metadata": {},
   "outputs": [
    {
     "name": "stdout",
     "output_type": "stream",
     "text": [
      "2222.SR: Open            2.825607e+01\n",
      "High            2.847579e+01\n",
      "Low             2.821213e+01\n",
      "Close           2.847579e+01\n",
      "Volume          1.569087e+06\n",
      "Dividends       0.000000e+00\n",
      "Stock Splits    0.000000e+00\n",
      "Name: 2023-01-01 00:00:00+03:00, dtype: float64\n",
      "2222.SR: Open            3.297727e+01\n",
      "High            3.307675e+01\n",
      "Low             3.277831e+01\n",
      "Close           3.287779e+01\n",
      "Volume          1.272045e+07\n",
      "Dividends       0.000000e+00\n",
      "Stock Splits    0.000000e+00\n",
      "Name: 2023-12-28 00:00:00+03:00, dtype: float64\n"
     ]
    }
   ],
   "source": [
    "for stock, history_data in top6_stock_history_data.items():\n",
    "    print(f\"{stock}: {history_data.iloc[0]}\")\n",
    "    print(f\"{stock}: {history_data.iloc[-1]}\")"
   ]
  },
  {
   "cell_type": "code",
   "execution_count": 6,
   "metadata": {},
   "outputs": [
    {
     "name": "stdout",
     "output_type": "stream",
     "text": [
      "2222.SR:                            Dividends  Stock Splits\n",
      "Date                                              \n",
      "2022-08-22 00:00:00+03:00   0.290727           0.0\n",
      "2022-11-09 00:00:00+03:00   0.290727           0.0\n",
      "2023-03-15 00:00:00+03:00   0.302364           0.0\n",
      "2023-05-09 00:00:00+03:00   0.000000           1.1\n",
      "2023-05-17 00:00:00+03:00   0.302400           0.0\n",
      "2023-09-11 00:00:00+03:00   0.153000           0.0\n",
      "2023-11-15 00:00:00+03:00   0.153000           0.0\n",
      "2024-03-14 00:00:00+03:00   0.167000           0.0\n"
     ]
    }
   ],
   "source": [
    "for stock, actions_data in top6_stock_actions_data.items():\n",
    "    print(f\"{stock}: {actions_data.tail(8)}\")"
   ]
  },
  {
   "cell_type": "markdown",
   "metadata": {},
   "source": [
    "---\n",
    "### Question 6. [Exploratory] Investigate new metrics\n",
    "\n",
    "**Free text answer**\n",
    "\n",
    "Download and explore a few additional metrics or time series that might be valuable for your project and write down why (briefly)."
   ]
  },
  {
   "cell_type": "markdown",
   "metadata": {},
   "source": [
    "---\n",
    "### Question 7. [Exploratory] Time-driven strategy description around earnings releases\n",
    "\n",
    "**Free text answer**\n",
    "\n",
    "Explore earning dates for the whole month of April - e.g. using YahooFinance earnings calendar (https://finance.yahoo.com/calendar/earnings?from=2024-04-21&to=2024-04-27&day=2024-04-23). Compare with the previous closed earnings (e.g., recent dates with full data https://finance.yahoo.com/calendar/earnings?from=2024-04-07&to=2024-04-13&day=2024-04-08). \n",
    "\n",
    "Describe an analytical strategy/idea (you're not required to implement it) to select a subset companies of interest based on the future events data."
   ]
  }
 ],
 "metadata": {
  "kernelspec": {
   "display_name": "Python 3",
   "language": "python",
   "name": "python3"
  },
  "language_info": {
   "codemirror_mode": {
    "name": "ipython",
    "version": 3
   },
   "file_extension": ".py",
   "mimetype": "text/x-python",
   "name": "python",
   "nbconvert_exporter": "python",
   "pygments_lexer": "ipython3",
   "version": "3.11.8"
  }
 },
 "nbformat": 4,
 "nbformat_minor": 2
}
